{
 "cells": [
  {
   "cell_type": "code",
   "execution_count": 1,
   "metadata": {},
   "outputs": [],
   "source": [
    "import pandas as pd\n",
    "import os\n",
    "import re\n",
    "import numpy as np\n",
    "from numpy import inf\n",
    "import cv2\n",
    "import seaborn as sns\n",
    "import matplotlib.pyplot as plt\n",
    "import matplotlib.patches as patches\n",
    "import warnings\n",
    "import six\n",
    "warnings.filterwarnings(\"ignore\")\n",
    "%matplotlib inline"
   ]
  },
  {
   "cell_type": "markdown",
   "metadata": {},
   "source": [
    "# Funções "
   ]
  },
  {
   "cell_type": "code",
   "execution_count": 2,
   "metadata": {},
   "outputs": [],
   "source": [
    "def render_mpl_table(data, col_width=3.0, row_height=0.625, font_size=14,\n",
    "                     header_color='#40466e', row_colors=['#f1f1f2', 'w'], edge_color='w',\n",
    "                     bbox=[0, 0, 1, 1], header_columns=0,\n",
    "                     ax=None, **kwargs):\n",
    "    ''' Renderiza um Dataframe'''\n",
    "    if ax is None:\n",
    "        size = (np.array(data.shape[::-1]) + np.array([0, 1])) * np.array([col_width, row_height])\n",
    "        fig, ax = plt.subplots(figsize=size)\n",
    "        ax.axis('off')\n",
    "\n",
    "    mpl_table = ax.table(cellText=data.values, bbox=bbox, colLabels=data.columns, **kwargs)\n",
    "\n",
    "    mpl_table.auto_set_font_size(False)\n",
    "    mpl_table.set_fontsize(font_size)\n",
    "\n",
    "    for k, cell in  six.iteritems(mpl_table._cells):\n",
    "        cell.set_edgecolor(edge_color)\n",
    "        if k[0] == 0 or k[1] < header_columns:\n",
    "            cell.set_text_props(weight='bold', color='w')\n",
    "            cell.set_facecolor(header_color)\n",
    "        else:\n",
    "            cell.set_facecolor(row_colors[k[0]%len(row_colors) ])\n",
    "    return ax"
   ]
  },
  {
   "cell_type": "code",
   "execution_count": 3,
   "metadata": {},
   "outputs": [],
   "source": [
    "def plot_asa(geo, position=[1,1,1], figure=0, grade=True, color=0, sections=False):\n",
    "    # Recebe o \"df.iloc[x]\"\n",
    "    \n",
    "    geracao = geo[10]\n",
    "    geo = list(geo)[0:10]   \n",
    "    \n",
    "    envs = geo[0:3]\n",
    "    cordas = geo[3:7]\n",
    "    offsets = geo[7:]\n",
    "    \n",
    "    if figure == 0:\n",
    "        fig = plt.figure()\n",
    "    else:\n",
    "        fig = figure\n",
    "        \n",
    "    ax = fig.add_subplot(*position, aspect='equal')\n",
    "        \n",
    "    if sections ==False:\n",
    "        x = [0,envs[0],envs[1],envs[2],envs[2],envs[1],envs[0],0]\n",
    "        y = [0,offsets[0],offsets[1],offsets[2],offsets[2]+cordas[-1],offsets[1]+cordas[-2],offsets[0]+cordas[-3],cordas[-4]]\n",
    "        ax.add_patch(patches.Polygon(xy=list(zip(x,y)), fill=False))\n",
    "    \n",
    "    else:\n",
    "        # Seção 1\n",
    "        x = [0,envs[0],envs[0],0]\n",
    "        y = [0,offsets[0],offsets[0]+cordas[-3],cordas[-4]]\n",
    "        ax.add_patch(patches.Polygon(xy=list(zip(x,y)), fill=False))\n",
    "        \n",
    "        # Seção 2\n",
    "        x = [envs[0],envs[1],envs[1],envs[0]]\n",
    "        y = [offsets[0],offsets[1],offsets[1]+cordas[-2],offsets[0]+cordas[-3]]\n",
    "        ax.add_patch(patches.Polygon(xy=list(zip(x,y)), fill=False))\n",
    "        \n",
    "        # Seção 3\n",
    "        x = [envs[1],envs[2],envs[2],envs[1]]\n",
    "        y = [offsets[1],offsets[2], offsets[2]+cordas[-1],offsets[1]+cordas[-2]]\n",
    "        ax.add_patch(patches.Polygon(xy=list(zip(x,y)), fill=False))        \n",
    "        \n",
    "    if (color != 0):\n",
    "        ax.add_patch(patches.Polygon(xy=list(zip(x,y)), fill=True, color=color))\n",
    "\n",
    "    x = [value*-1 for value in x]\n",
    "    \n",
    "    ax.add_patch(patches.Polygon(xy=list(zip(x,y)), fill=False))\n",
    "                 \n",
    "    if color!= 0:\n",
    "        ax.add_patch(patches.Polygon(xy=list(zip(x,y)), fill=True, color=color))\n",
    "\n",
    "    plt.xlim(min(x)*-1.2, min(x)*1.2)\n",
    "    plt.ylim(-0.1,max(y)*1.3)\n",
    "    \n",
    "    if sections:\n",
    "        plt.xlim(0, min(x)*1.2*-1)\n",
    "        \n",
    "    if grade:\n",
    "        plt.title(geracao)\n",
    "        \n",
    "    else:\n",
    "        plt.axis('off')\n",
    "\n",
    "#     plt.show()\n",
    "#     return (ax)"
   ]
  },
  {
   "cell_type": "code",
   "execution_count": 4,
   "metadata": {},
   "outputs": [],
   "source": [
    "def checa_sobrevivencia(df):\n",
    "    df[\"Sobreviveu\"] = \"\"\n",
    "    posicao = 0\n",
    "    for i in range(0, len(df)-1):\n",
    "        for x,individuo in enumerate([list(linha[:10]) for linha in df[df[\"Geracao\"] == i].values]):\n",
    "#             filename = df[df[\"Geracao\"] == i].values[x][-3]\n",
    "            if individuo in [list(linha[:10]) for linha in df[df[\"Geracao\"] == i+1].values]:\n",
    "#                 df.loc[df[\"File\"]==filename,\"Sobreviveu\"] = \"Sim\"\n",
    "                df.loc[posicao,\"Sobreviveu\"] = \"Sim\"\n",
    "            else:\n",
    "                df.loc[posicao,\"Sobreviveu\"] = \"Não\"\n",
    "            posicao +=1\n",
    "    return df"
   ]
  },
  {
   "cell_type": "code",
   "execution_count": 5,
   "metadata": {},
   "outputs": [],
   "source": [
    "def animacao(df,file= 'animacao_geracoes'):\n",
    "#     df = checa_sobrevivencia(df)\n",
    "    directory = \"./plot/\"\n",
    "    linhas = 8\n",
    "    colunas = 5\n",
    "    for geracao in range (0, df[\"Geracao\"].nunique()-1):\n",
    "        f = plt.figure(figsize=(15,8))\n",
    "        atual  = df[df[\"Geracao\"]==geracao].reset_index(drop=True)\n",
    "        for i in range(1, len(atual)+1):\n",
    "            plot_asa(atual.iloc[i-1], [linhas, colunas, i], f, grade=False)\n",
    "            \n",
    "        plt.savefig(f\"{directory}geracao_{geracao}_0.jpeg\", transparent=False)\n",
    "        \n",
    "        f = plt.figure(figsize=(15,8))\n",
    "        for i in range(1, len(atual)+1):\n",
    "            if atual.loc[i-1, \"Sobreviveu\"] == \"Sim\":\n",
    "                plot_asa(atual.iloc[i-1], [linhas, colunas, i], f, grade=False, color=\"green\")\n",
    "                \n",
    "            elif atual.loc[i-1, \"Sobreviveu\"] == \"Não\":\n",
    "                plot_asa(atual.iloc[i-1], [linhas, colunas, i], f, grade=False, color=\"firebrick\")\n",
    "                \n",
    "        plt.savefig(f\"{directory}geracao_{geracao}_1.jpeg\", transparent=False)\n",
    "    \n",
    "    # Video\n",
    "    video_name =directory+file+'.mp4'\n",
    "    images = [img for img in os.listdir(directory) if img.endswith(\".jpeg\")]\n",
    "    frame = cv2.imread(os.path.join(directory, images[0]))\n",
    "    height, width, layers = frame.shape\n",
    "\n",
    "    df = pd.DataFrame([image.split(\"_\")[1:3]  for image in images], images).reset_index()\n",
    "    df.columns = [\"file\", \"geracao\", \"tipo\"]\n",
    "    df[\"geracao\"] = df[\"geracao\"].astype(int)\n",
    "    df[\"tipo\"] = df[\"tipo\"].str[0].astype(int)\n",
    "    df = df.sort_values(by=[\"geracao\", \"tipo\"])\n",
    "    images_formatos = list(df[df[\"tipo\"]==0][\"file\"])\n",
    "    images_cores = list(df[df[\"tipo\"]==1][\"file\"])\n",
    "    images = list(df[\"file\"])\n",
    "\n",
    "    fps = 5\n",
    "    video = cv2.VideoWriter(video_name, 0, fps, (width,height))\n",
    "\n",
    "    for image in images:\n",
    "        video.write(cv2.imread(os.path.join(directory, image)))\n",
    "\n",
    "    cv2.destroyAllWindows()\n",
    "    video.release()"
   ]
  },
  {
   "cell_type": "code",
   "execution_count": 24,
   "metadata": {},
   "outputs": [
    {
     "data": {
      "text/html": [
       "<div>\n",
       "<style scoped>\n",
       "    .dataframe tbody tr th:only-of-type {\n",
       "        vertical-align: middle;\n",
       "    }\n",
       "\n",
       "    .dataframe tbody tr th {\n",
       "        vertical-align: top;\n",
       "    }\n",
       "\n",
       "    .dataframe thead th {\n",
       "        text-align: right;\n",
       "    }\n",
       "</style>\n",
       "<table border=\"1\" class=\"dataframe\">\n",
       "  <thead>\n",
       "    <tr style=\"text-align: right;\">\n",
       "      <th></th>\n",
       "      <th>Envergadura_1</th>\n",
       "      <th>Envergadura_2</th>\n",
       "      <th>Envergadura_3</th>\n",
       "      <th>Corda_1</th>\n",
       "      <th>Corda_2</th>\n",
       "      <th>Corda_3</th>\n",
       "      <th>Corda_4</th>\n",
       "      <th>Offset_1</th>\n",
       "      <th>Offset_2</th>\n",
       "      <th>Offset_3</th>\n",
       "      <th>Pontuacao</th>\n",
       "      <th>constraints</th>\n",
       "      <th>objetivos_penalizados</th>\n",
       "      <th>viavel</th>\n",
       "      <th>Area</th>\n",
       "      <th>CL</th>\n",
       "      <th>CD</th>\n",
       "      <th>Massa_Vazia</th>\n",
       "    </tr>\n",
       "    <tr>\n",
       "      <th>Geracao</th>\n",
       "      <th></th>\n",
       "      <th></th>\n",
       "      <th></th>\n",
       "      <th></th>\n",
       "      <th></th>\n",
       "      <th></th>\n",
       "      <th></th>\n",
       "      <th></th>\n",
       "      <th></th>\n",
       "      <th></th>\n",
       "      <th></th>\n",
       "      <th></th>\n",
       "      <th></th>\n",
       "      <th></th>\n",
       "      <th></th>\n",
       "      <th></th>\n",
       "      <th></th>\n",
       "      <th></th>\n",
       "    </tr>\n",
       "  </thead>\n",
       "  <tbody>\n",
       "    <tr>\n",
       "      <th>0</th>\n",
       "      <td>0.3408</td>\n",
       "      <td>1.08</td>\n",
       "      <td>2.0775</td>\n",
       "      <td>0.8713</td>\n",
       "      <td>0.6124</td>\n",
       "      <td>0.4528</td>\n",
       "      <td>0.34545</td>\n",
       "      <td>0.073</td>\n",
       "      <td>0.394</td>\n",
       "      <td>0.61275</td>\n",
       "      <td>14.535833</td>\n",
       "      <td>[4.154999999999999, 0.7392000000000001, 0.9974...</td>\n",
       "      <td>-14.535833</td>\n",
       "      <td>0</td>\n",
       "      <td>2.089295</td>\n",
       "      <td>2.1520</td>\n",
       "      <td>0.1824</td>\n",
       "      <td>9.521252</td>\n",
       "    </tr>\n",
       "    <tr>\n",
       "      <th>1</th>\n",
       "      <td>0.3408</td>\n",
       "      <td>1.08</td>\n",
       "      <td>2.0775</td>\n",
       "      <td>0.8713</td>\n",
       "      <td>0.6124</td>\n",
       "      <td>0.4528</td>\n",
       "      <td>0.34545</td>\n",
       "      <td>0.073</td>\n",
       "      <td>0.394</td>\n",
       "      <td>0.61275</td>\n",
       "      <td>14.535833</td>\n",
       "      <td>[4.154999999999999, 0.7392000000000001, 0.9974...</td>\n",
       "      <td>-14.535833</td>\n",
       "      <td>0</td>\n",
       "      <td>2.089295</td>\n",
       "      <td>2.1520</td>\n",
       "      <td>0.1824</td>\n",
       "      <td>9.521252</td>\n",
       "    </tr>\n",
       "    <tr>\n",
       "      <th>2</th>\n",
       "      <td>0.3408</td>\n",
       "      <td>1.08</td>\n",
       "      <td>2.0775</td>\n",
       "      <td>0.8713</td>\n",
       "      <td>0.6124</td>\n",
       "      <td>0.4528</td>\n",
       "      <td>0.34545</td>\n",
       "      <td>0.073</td>\n",
       "      <td>0.394</td>\n",
       "      <td>0.61275</td>\n",
       "      <td>14.535833</td>\n",
       "      <td>[4.154999999999999, 0.7392000000000001, 0.9974...</td>\n",
       "      <td>-14.535833</td>\n",
       "      <td>0</td>\n",
       "      <td>2.089295</td>\n",
       "      <td>2.1520</td>\n",
       "      <td>0.1824</td>\n",
       "      <td>9.521252</td>\n",
       "    </tr>\n",
       "    <tr>\n",
       "      <th>3</th>\n",
       "      <td>0.3408</td>\n",
       "      <td>1.08</td>\n",
       "      <td>2.0775</td>\n",
       "      <td>0.8713</td>\n",
       "      <td>0.6124</td>\n",
       "      <td>0.4528</td>\n",
       "      <td>0.34545</td>\n",
       "      <td>0.073</td>\n",
       "      <td>0.394</td>\n",
       "      <td>0.61275</td>\n",
       "      <td>14.535833</td>\n",
       "      <td>[4.154999999999999, 0.7392000000000001, 0.9974...</td>\n",
       "      <td>-14.535833</td>\n",
       "      <td>0</td>\n",
       "      <td>2.089295</td>\n",
       "      <td>2.1520</td>\n",
       "      <td>0.1824</td>\n",
       "      <td>9.521252</td>\n",
       "    </tr>\n",
       "    <tr>\n",
       "      <th>4</th>\n",
       "      <td>0.3408</td>\n",
       "      <td>1.08</td>\n",
       "      <td>2.0775</td>\n",
       "      <td>0.8713</td>\n",
       "      <td>0.6124</td>\n",
       "      <td>0.4528</td>\n",
       "      <td>0.34545</td>\n",
       "      <td>0.073</td>\n",
       "      <td>0.394</td>\n",
       "      <td>0.61275</td>\n",
       "      <td>14.535833</td>\n",
       "      <td>[4.154999999999999, 0.7392000000000001, 0.9974...</td>\n",
       "      <td>-14.535833</td>\n",
       "      <td>0</td>\n",
       "      <td>2.089295</td>\n",
       "      <td>2.1520</td>\n",
       "      <td>0.1824</td>\n",
       "      <td>9.521252</td>\n",
       "    </tr>\n",
       "    <tr>\n",
       "      <th>...</th>\n",
       "      <td>...</td>\n",
       "      <td>...</td>\n",
       "      <td>...</td>\n",
       "      <td>...</td>\n",
       "      <td>...</td>\n",
       "      <td>...</td>\n",
       "      <td>...</td>\n",
       "      <td>...</td>\n",
       "      <td>...</td>\n",
       "      <td>...</td>\n",
       "      <td>...</td>\n",
       "      <td>...</td>\n",
       "      <td>...</td>\n",
       "      <td>...</td>\n",
       "      <td>...</td>\n",
       "      <td>...</td>\n",
       "      <td>...</td>\n",
       "      <td>...</td>\n",
       "    </tr>\n",
       "    <tr>\n",
       "      <th>295</th>\n",
       "      <td>0.3000</td>\n",
       "      <td>1.08</td>\n",
       "      <td>2.0760</td>\n",
       "      <td>0.4024</td>\n",
       "      <td>0.3312</td>\n",
       "      <td>0.2932</td>\n",
       "      <td>0.13835</td>\n",
       "      <td>0.089</td>\n",
       "      <td>0.160</td>\n",
       "      <td>0.45900</td>\n",
       "      <td>18.401957</td>\n",
       "      <td>[4.152, 0.78, 0.996, -0.07120000000000004, -0....</td>\n",
       "      <td>-18.401957</td>\n",
       "      <td>0</td>\n",
       "      <td>1.136936</td>\n",
       "      <td>2.4896</td>\n",
       "      <td>0.1293</td>\n",
       "      <td>3.514454</td>\n",
       "    </tr>\n",
       "    <tr>\n",
       "      <th>296</th>\n",
       "      <td>0.3000</td>\n",
       "      <td>1.08</td>\n",
       "      <td>2.0760</td>\n",
       "      <td>0.4024</td>\n",
       "      <td>0.3312</td>\n",
       "      <td>0.2932</td>\n",
       "      <td>0.13835</td>\n",
       "      <td>0.089</td>\n",
       "      <td>0.160</td>\n",
       "      <td>0.45900</td>\n",
       "      <td>18.401957</td>\n",
       "      <td>[4.152, 0.78, 0.996, -0.07120000000000004, -0....</td>\n",
       "      <td>-18.401957</td>\n",
       "      <td>0</td>\n",
       "      <td>1.136936</td>\n",
       "      <td>2.4896</td>\n",
       "      <td>0.1293</td>\n",
       "      <td>3.514454</td>\n",
       "    </tr>\n",
       "    <tr>\n",
       "      <th>297</th>\n",
       "      <td>0.3000</td>\n",
       "      <td>1.08</td>\n",
       "      <td>2.0760</td>\n",
       "      <td>0.4024</td>\n",
       "      <td>0.3312</td>\n",
       "      <td>0.2932</td>\n",
       "      <td>0.13835</td>\n",
       "      <td>0.089</td>\n",
       "      <td>0.160</td>\n",
       "      <td>0.45900</td>\n",
       "      <td>18.401957</td>\n",
       "      <td>[4.152, 0.78, 0.996, -0.07120000000000004, -0....</td>\n",
       "      <td>-18.401957</td>\n",
       "      <td>0</td>\n",
       "      <td>1.136936</td>\n",
       "      <td>2.4896</td>\n",
       "      <td>0.1293</td>\n",
       "      <td>3.514454</td>\n",
       "    </tr>\n",
       "    <tr>\n",
       "      <th>298</th>\n",
       "      <td>0.3000</td>\n",
       "      <td>1.08</td>\n",
       "      <td>2.0760</td>\n",
       "      <td>0.4024</td>\n",
       "      <td>0.3312</td>\n",
       "      <td>0.2932</td>\n",
       "      <td>0.13835</td>\n",
       "      <td>0.089</td>\n",
       "      <td>0.160</td>\n",
       "      <td>0.45900</td>\n",
       "      <td>18.401957</td>\n",
       "      <td>[4.152, 0.78, 0.996, -0.07120000000000004, -0....</td>\n",
       "      <td>-18.401957</td>\n",
       "      <td>0</td>\n",
       "      <td>1.136936</td>\n",
       "      <td>2.4896</td>\n",
       "      <td>0.1293</td>\n",
       "      <td>3.514454</td>\n",
       "    </tr>\n",
       "    <tr>\n",
       "      <th>299</th>\n",
       "      <td>0.3000</td>\n",
       "      <td>1.08</td>\n",
       "      <td>2.0760</td>\n",
       "      <td>0.4024</td>\n",
       "      <td>0.3312</td>\n",
       "      <td>0.2932</td>\n",
       "      <td>0.13835</td>\n",
       "      <td>0.089</td>\n",
       "      <td>0.160</td>\n",
       "      <td>0.45900</td>\n",
       "      <td>18.401957</td>\n",
       "      <td>[4.152, 0.78, 0.996, -0.07120000000000004, -0....</td>\n",
       "      <td>-18.401957</td>\n",
       "      <td>0</td>\n",
       "      <td>1.136936</td>\n",
       "      <td>2.4896</td>\n",
       "      <td>0.1293</td>\n",
       "      <td>3.514454</td>\n",
       "    </tr>\n",
       "  </tbody>\n",
       "</table>\n",
       "<p>300 rows × 18 columns</p>\n",
       "</div>"
      ],
      "text/plain": [
       "         Envergadura_1  Envergadura_2  Envergadura_3  Corda_1  Corda_2  \\\n",
       "Geracao                                                                  \n",
       "0               0.3408           1.08         2.0775   0.8713   0.6124   \n",
       "1               0.3408           1.08         2.0775   0.8713   0.6124   \n",
       "2               0.3408           1.08         2.0775   0.8713   0.6124   \n",
       "3               0.3408           1.08         2.0775   0.8713   0.6124   \n",
       "4               0.3408           1.08         2.0775   0.8713   0.6124   \n",
       "...                ...            ...            ...      ...      ...   \n",
       "295             0.3000           1.08         2.0760   0.4024   0.3312   \n",
       "296             0.3000           1.08         2.0760   0.4024   0.3312   \n",
       "297             0.3000           1.08         2.0760   0.4024   0.3312   \n",
       "298             0.3000           1.08         2.0760   0.4024   0.3312   \n",
       "299             0.3000           1.08         2.0760   0.4024   0.3312   \n",
       "\n",
       "         Corda_3  Corda_4  Offset_1  Offset_2  Offset_3  Pontuacao  \\\n",
       "Geracao                                                              \n",
       "0         0.4528  0.34545     0.073     0.394   0.61275  14.535833   \n",
       "1         0.4528  0.34545     0.073     0.394   0.61275  14.535833   \n",
       "2         0.4528  0.34545     0.073     0.394   0.61275  14.535833   \n",
       "3         0.4528  0.34545     0.073     0.394   0.61275  14.535833   \n",
       "4         0.4528  0.34545     0.073     0.394   0.61275  14.535833   \n",
       "...          ...      ...       ...       ...       ...        ...   \n",
       "295       0.2932  0.13835     0.089     0.160   0.45900  18.401957   \n",
       "296       0.2932  0.13835     0.089     0.160   0.45900  18.401957   \n",
       "297       0.2932  0.13835     0.089     0.160   0.45900  18.401957   \n",
       "298       0.2932  0.13835     0.089     0.160   0.45900  18.401957   \n",
       "299       0.2932  0.13835     0.089     0.160   0.45900  18.401957   \n",
       "\n",
       "                                               constraints  \\\n",
       "Geracao                                                      \n",
       "0        [4.154999999999999, 0.7392000000000001, 0.9974...   \n",
       "1        [4.154999999999999, 0.7392000000000001, 0.9974...   \n",
       "2        [4.154999999999999, 0.7392000000000001, 0.9974...   \n",
       "3        [4.154999999999999, 0.7392000000000001, 0.9974...   \n",
       "4        [4.154999999999999, 0.7392000000000001, 0.9974...   \n",
       "...                                                    ...   \n",
       "295      [4.152, 0.78, 0.996, -0.07120000000000004, -0....   \n",
       "296      [4.152, 0.78, 0.996, -0.07120000000000004, -0....   \n",
       "297      [4.152, 0.78, 0.996, -0.07120000000000004, -0....   \n",
       "298      [4.152, 0.78, 0.996, -0.07120000000000004, -0....   \n",
       "299      [4.152, 0.78, 0.996, -0.07120000000000004, -0....   \n",
       "\n",
       "         objetivos_penalizados  viavel      Area      CL      CD  Massa_Vazia  \n",
       "Geracao                                                                        \n",
       "0                   -14.535833       0  2.089295  2.1520  0.1824     9.521252  \n",
       "1                   -14.535833       0  2.089295  2.1520  0.1824     9.521252  \n",
       "2                   -14.535833       0  2.089295  2.1520  0.1824     9.521252  \n",
       "3                   -14.535833       0  2.089295  2.1520  0.1824     9.521252  \n",
       "4                   -14.535833       0  2.089295  2.1520  0.1824     9.521252  \n",
       "...                        ...     ...       ...     ...     ...          ...  \n",
       "295                 -18.401957       0  1.136936  2.4896  0.1293     3.514454  \n",
       "296                 -18.401957       0  1.136936  2.4896  0.1293     3.514454  \n",
       "297                 -18.401957       0  1.136936  2.4896  0.1293     3.514454  \n",
       "298                 -18.401957       0  1.136936  2.4896  0.1293     3.514454  \n",
       "299                 -18.401957       0  1.136936  2.4896  0.1293     3.514454  \n",
       "\n",
       "[300 rows x 18 columns]"
      ]
     },
     "execution_count": 24,
     "metadata": {},
     "output_type": "execute_result"
    }
   ],
   "source": [
    "df5.values"
   ]
  },
  {
   "cell_type": "code",
   "execution_count": 48,
   "metadata": {},
   "outputs": [],
   "source": [
    "def animacao_single(df,file= 'animacao_geracoes'):\n",
    "    '''\n",
    "    Só uma asa por frame\n",
    "    '''\n",
    "    \n",
    "    directory = \"./plot/\"\n",
    "    linhas = 8\n",
    "    colunas = 5\n",
    "    for i in range (0, len(df)):\n",
    "        _ = plt.figure(figsize=(15,8))\n",
    "        _ = plot_asa(df.iloc[i], grade=False)\n",
    "        _ = plt.title(f\"Generation: {i}\")\n",
    "        plt.xlim(-3,3)\n",
    "        plt.ylim(-1,1)\n",
    "        _ = plt.savefig(f\"{directory}geracao_{i}_0.jpeg\", transparent=False)\n",
    "        _ = plt.close()\n",
    "    \n",
    "    # Video\n",
    "    video_name =directory+file+'.mp4'\n",
    "    images = [img for img in os.listdir(directory) if img.endswith(\".jpeg\")]\n",
    "    frame = cv2.imread(os.path.join(directory, images[0]))\n",
    "    height, width, layers = frame.shape\n",
    "\n",
    "    df = pd.DataFrame([image.split(\"_\")[1:3]  for image in images], images).reset_index()\n",
    "    df.columns = [\"file\", \"geracao\", \"tipo\"]\n",
    "    df[\"geracao\"] = df[\"geracao\"].astype(int)\n",
    "    df[\"tipo\"] = df[\"tipo\"].str[0].astype(int)\n",
    "    df = df.sort_values(by=[\"geracao\", \"tipo\"])\n",
    "    images_formatos = list(df[df[\"tipo\"]==0][\"file\"])\n",
    "    images_cores = list(df[df[\"tipo\"]==1][\"file\"])\n",
    "    images = list(df[\"file\"])\n",
    "\n",
    "    fps = 25\n",
    "    video = cv2.VideoWriter(video_name, 0, fps, (width,height))\n",
    "\n",
    "    for image in images:\n",
    "        video.write(cv2.imread(os.path.join(directory, image)))\n",
    "\n",
    "    cv2.destroyAllWindows()\n",
    "    video.release()"
   ]
  },
  {
   "cell_type": "code",
   "execution_count": null,
   "metadata": {},
   "outputs": [],
   "source": [
    "animacao_single(df5, \"absoluto_top\")"
   ]
  },
  {
   "cell_type": "code",
   "execution_count": 6,
   "metadata": {},
   "outputs": [],
   "source": [
    "def ler_logs(arquivo):\n",
    "    df_final = pd.DataFrame()\n",
    "\n",
    "    df = pd.read_csv(f\"./Resultados/{arquivo}.csv\")\n",
    "    df= df.drop('Unnamed: 0', axis=1)\n",
    "\n",
    "    for i in ['pop_new', 'objetivos', 'constraints','objetivos_penalizados', 'parameters', 'viavel']:\n",
    "        df[i] = df[i].apply(lambda x: eval(x))\n",
    "\n",
    "    variaveis = [\"Envergadura_1\", \"Envergadura_2\",\"Envergadura_3\",\"Corda_1\",\"Corda_2\",\"Corda_3\",\"Corda_4\",\"Offset_1\",\"Offset_2\", \"Offset_3\"]\n",
    "    geometria = pd.DataFrame(df[[\"pop_new\"]].explode(\"pop_new\")[\"pop_new\"].to_list(), columns= variaveis)\n",
    "    gen_no = df[[\"gen_no\",\"pop_new\"]].explode(\"pop_new\")[\"gen_no\"]\n",
    "    df_final = pd.concat([df_final,geometria])\n",
    "    df_final[\"Geracao\"] = gen_no.reset_index(drop=True)\n",
    "    df_final[\"Pontuacao\"] = df[[\"objetivos\"]].explode(\"objetivos\")[\"objetivos\"].apply(lambda x: x[0]*-1).reset_index(drop=\"True\")\n",
    "    df_final[\"constraints\"] =  df[[\"constraints\"]].explode(\"constraints\").reset_index(drop=True)[\"constraints\"]\n",
    "    df_final[\"objetivos_penalizados\"] = df[[\"objetivos_penalizados\"]].explode(\"objetivos_penalizados\")[\"objetivos_penalizados\"].apply(lambda x: x[0]).reset_index(drop=\"True\")\n",
    "    df_final[\"viavel\"] = df[[\"viavel\"]].explode(\"viavel\").reset_index(drop=True)[\"viavel\"]\n",
    "    # ok\n",
    "    variaveis = [\"Area\", \"CL\",\"CD\",\"Massa_Vazia\"]\n",
    "    resultados = pd.DataFrame(df[[\"parameters\"]].explode(\"parameters\")[\"parameters\"].to_list(), columns= variaveis)\n",
    "    df_final = pd.concat([df_final, resultados], axis=1)\n",
    "    \n",
    "    return df_final"
   ]
  },
  {
   "cell_type": "markdown",
   "metadata": {},
   "source": [
    "# Leitura de dados"
   ]
  },
  {
   "cell_type": "code",
   "execution_count": 8,
   "metadata": {},
   "outputs": [],
   "source": [
    "# df = ler_logs(\"Absoluto_20_300_MaxPontuacao_R5\")\n",
    "df1 = ler_logs(\"Absoluto_20_300_MaxPontuacao_R1\")\n",
    "df2 = ler_logs(\"Absoluto_20_300_MaxPontuacao_R2\")\n",
    "df3 = ler_logs(\"Absoluto_20_300_MaxPontuacao_R3\")\n",
    "df4 = ler_logs(\"Absoluto_20_300_MaxPontuacao_R4\")\n",
    "df5 = ler_logs(\"Absoluto_20_300_MaxPontuacao_R5\")\n",
    "\n",
    "# Para relativo\n",
    "def trata_relativo(df):\n",
    "    df[\"Envergadura_2\"] = df[\"Envergadura_1\"] + df[\"Envergadura_2\"]\n",
    "    df[\"Envergadura_3\"] = df[\"Envergadura_2\"] + df[\"Envergadura_3\"]\n",
    "\n",
    "    df[\"Corda_2\"] = df[\"Corda_1\"] - df[\"Corda_2\"]\n",
    "    df[\"Corda_3\"] = df[\"Corda_2\"] - df[\"Corda_3\"]\n",
    "    df[\"Corda_4\"] = df[\"Corda_3\"] - df[\"Corda_4\"]\n",
    "\n",
    "    df[\"Offset_2\"] = df[\"Offset_1\"] + df[\"Offset_2\"]\n",
    "    df[\"Offset_3\"] = df[\"Offset_2\"] + df[\"Offset_3\"]\n",
    "\n",
    "    return df\n",
    "\n",
    "dfr1 = trata_relativo(ler_logs(\"Relativo_20_300_MaxPontuacao_R1\"))\n",
    "dfr2 = trata_relativo(ler_logs(\"Relativo_20_300_MaxPontuacao_R2\"))\n",
    "dfr3 = trata_relativo(ler_logs(\"Relativo_20_300_MaxPontuacao_R3\"))\n",
    "dfr4 = trata_relativo(ler_logs(\"Relativo_20_300_MaxPontuacao_R4\"))\n",
    "dfr5 = trata_relativo(ler_logs(\"Relativo_20_300_MaxPontuacao_R5\"))\n",
    "# ultima = df[df[\"Geracao\"]==299]"
   ]
  },
  {
   "cell_type": "code",
   "execution_count": 13,
   "metadata": {},
   "outputs": [],
   "source": [
    "# Isso é para exportar o melhor individuo de cada geração (para cada R)\n",
    "\n",
    "dfr1 = dfr1.sort_values([\"Geracao\",\"Pontuacao\"]).groupby(\"Geracao\").last()#.to_csv(\"Max_payload_relativo_R1.csv\")\n",
    "dfr2 = dfr2.sort_values([\"Geracao\",\"Pontuacao\"]).groupby(\"Geracao\").last()#.to_csv(\"Max_payload_relativo_R2.csv\")\n",
    "dfr3 = dfr3.sort_values([\"Geracao\",\"Pontuacao\"]).groupby(\"Geracao\").last()#.to_csv(\"Max_payload_relativo_R3.csv\")\n",
    "dfr4 = dfr4.sort_values([\"Geracao\",\"Pontuacao\"]).groupby(\"Geracao\").last()#.to_csv(\"Max_payload_relativo_R4.csv\")\n",
    "dfr5 = dfr5.sort_values([\"Geracao\",\"Pontuacao\"]).groupby(\"Geracao\").last()#.to_csv(\"Max_payload_relativo_R5.csv\")\n",
    "\n",
    "df1 = df1.sort_values([\"Geracao\",\"Pontuacao\"]).groupby(\"Geracao\").last()#.to_csv(\"Max_payload_absoluto_R1.csv\")\n",
    "df2 = df2.sort_values([\"Geracao\",\"Pontuacao\"]).groupby(\"Geracao\").last()#.to_csv(\"Max_payload_absoluto_R2.csv\")\n",
    "df3 = df3.sort_values([\"Geracao\",\"Pontuacao\"]).groupby(\"Geracao\").last()#.to_csv(\"Max_payload_absoluto_R3.csv\")\n",
    "df4 = df4.sort_values([\"Geracao\",\"Pontuacao\"]).groupby(\"Geracao\").last()#.to_csv(\"Max_payload_absoluto_R4.csv\")\n",
    "df5 = df5.sort_values([\"Geracao\",\"Pontuacao\"]).groupby(\"Geracao\").last()#.to_csv(\"Max_payload_absoluto_R5.csv\")"
   ]
  },
  {
   "cell_type": "markdown",
   "metadata": {},
   "source": [
    "# Visualiações "
   ]
  },
  {
   "cell_type": "code",
   "execution_count": null,
   "metadata": {
    "scrolled": true
   },
   "outputs": [],
   "source": [
    "for i in range(0, len(ultima)):\n",
    "    plot_asa(ultima.iloc[i])"
   ]
  },
  {
   "cell_type": "code",
   "execution_count": 11,
   "metadata": {},
   "outputs": [
    {
     "data": {
      "text/plain": [
       "(14.0, 19.0)"
      ]
     },
     "execution_count": 11,
     "metadata": {},
     "output_type": "execute_result"
    },
    {
     "data": {
      "image/png": "[encoded data removed]",
      "text/plain": [
       "<Figure size 720x576 with 1 Axes>"
      ]
     },
     "metadata": {
      "needs_background": "light"
     },
     "output_type": "display_data"
    }
   ],
   "source": [
    "# Relativo\n",
    "plt.figure(figsize=(10,8))\n",
    "\n",
    "viavel1 = dfr1[dfr1[\"viavel\"]==0]\n",
    "viavel2 = dfr2[dfr2[\"viavel\"]==0]\n",
    "viavel3 = dfr3[dfr3[\"viavel\"]==0]\n",
    "viavel4 = dfr4[dfr4[\"viavel\"]==0]\n",
    "viavel5 = dfr5[dfr5[\"viavel\"]==0]\n",
    "\n",
    "viavel1.groupby(\"Geracao\").max()[\"Pontuacao\"].plot()\n",
    "viavel2.groupby(\"Geracao\").max()[\"Pontuacao\"].plot()\n",
    "viavel3.groupby(\"Geracao\").max()[\"Pontuacao\"].plot()\n",
    "viavel4.groupby(\"Geracao\").max()[\"Pontuacao\"].plot()\n",
    "viavel5.groupby(\"Geracao\").max()[\"Pontuacao\"].plot()\n",
    "\n",
    "# viavel1.groupby(\"Geracao\").max().to_csv(\"melhores_relativo_r1.csv\")\n",
    "# viavel2.groupby(\"Geracao\").max().to_csv(\"melhores_relativo_r2.csv\")\n",
    "# viavel3.groupby(\"Geracao\").max().to_csv(\"melhores_relativo_r3.csv\")\n",
    "# viavel4.groupby(\"Geracao\").max().to_csv(\"melhores_relativo_r4.csv\")\n",
    "# viavel5.groupby(\"Geracao\").max().to_csv(\"melhores_relativo_r5.csv\")\n",
    "\n",
    "\n",
    "relativo_total = pd.concat([viavel1,viavel2,viavel3,viavel4,viavel5])\n",
    "\n",
    "plt.title(\"Relativo\")\n",
    "plt.xlabel(\"Generation\")\n",
    "plt.ylabel(\"Payload (kg)\")\n",
    "plt.ylim(14,19)"
   ]
  },
  {
   "cell_type": "code",
   "execution_count": 12,
   "metadata": {},
   "outputs": [
    {
     "data": {
      "text/plain": [
       "(14.0, 19.0)"
      ]
     },
     "execution_count": 12,
     "metadata": {},
     "output_type": "execute_result"
    },
    {
     "data": {
      "image/png": "[encoded data removed]",
      "text/plain": [
       "<Figure size 720x576 with 1 Axes>"
      ]
     },
     "metadata": {
      "needs_background": "light"
     },
     "output_type": "display_data"
    }
   ],
   "source": [
    "# Absoltuo\n",
    "plt.figure(figsize=(10,8))\n",
    "\n",
    "viavel1 = df1[df1[\"viavel\"]==0]\n",
    "viavel2 = df2[df2[\"viavel\"]==0]\n",
    "viavel3 = df3[df3[\"viavel\"]==0]\n",
    "viavel4 = df4[df4[\"viavel\"]==0]\n",
    "viavel5 = df5[df5[\"viavel\"]==0]\n",
    "\n",
    "viavel1.groupby(\"Geracao\").max()[\"Pontuacao\"].plot()\n",
    "viavel2.groupby(\"Geracao\").max()[\"Pontuacao\"].plot()\n",
    "viavel3.groupby(\"Geracao\").max()[\"Pontuacao\"].plot()\n",
    "viavel4.groupby(\"Geracao\").max()[\"Pontuacao\"].plot()\n",
    "viavel5.groupby(\"Geracao\").max()[\"Pontuacao\"].plot()\n",
    "\n",
    "# viavel1.groupby(\"Geracao\").max().to_csv(\"melhores_absoluto_r1.csv\")\n",
    "# viavel2.groupby(\"Geracao\").max().to_csv(\"melhores_absoluto_r2.csv\")\n",
    "# viavel3.groupby(\"Geracao\").max().to_csv(\"melhores_absoluto_r3.csv\")\n",
    "# viavel4.groupby(\"Geracao\").max().to_csv(\"melhores_absoluto_r4.csv\")\n",
    "# viavel5.groupby(\"Geracao\").max().to_csv(\"melhores_absoluto_r5.csv\")\n",
    "\n",
    "absoluto_total = pd.concat([viavel1,viavel2,viavel3,viavel4,viavel5])\n",
    "\n",
    "plt.title(\"Absoluto\")\n",
    "plt.xlabel(\"Generation\")\n",
    "plt.ylabel(\"Payload (kg)\")\n",
    "plt.ylim(14,19)"
   ]
  },
  {
   "cell_type": "code",
   "execution_count": 123,
   "metadata": {},
   "outputs": [
    {
     "data": {
      "image/png": "[encoded data removed]",
      "text/plain": [
       "<Figure size 720x576 with 1 Axes>"
      ]
     },
     "metadata": {},
     "output_type": "display_data"
    }
   ],
   "source": [
    "sns.set(font_scale = 1.3)\n",
    "plt.figure(figsize=(10,8))\n",
    "sns.scatterplot(data= absoluto_total, x=\"Area\", y=\"Pontuacao\", alpha=1, palette=['black'])\n",
    "\n",
    "plt.xlabel(\"Wing Surface Area ($\\mathregular{m^{2}}$)\")\n",
    "plt.ylabel(\"Payload (kg)\")\n",
    "plt.title(\"Absoluto\")\n",
    "\n",
    "_ = plt.xlim(0,3.5)\n",
    "_ = plt.ylim(5,20)"
   ]
  },
  {
   "cell_type": "code",
   "execution_count": 127,
   "metadata": {},
   "outputs": [
    {
     "data": {
      "image/png": "[encoded data removed]",
      "text/plain": [
       "<Figure size 720x576 with 1 Axes>"
      ]
     },
     "metadata": {},
     "output_type": "display_data"
    }
   ],
   "source": [
    "plt.figure(figsize=(10,8))\n",
    "sns.set(font_scale = 1.3)\n",
    "sns.scatterplot(data= relativo_total, x=\"Area\", y=\"Pontuacao\")\n",
    "plt.ylim(0)\n",
    "plt.xlabel(\"Wing Surface Area ($\\mathregular{m^{2}}$)\")\n",
    "plt.ylabel(\"Payload (kg)\")\n",
    "plt.title(\"Relativo\")\n",
    "_ = plt.xlim(0,3.5)\n",
    "_ = plt.ylim(5,20)"
   ]
  },
  {
   "cell_type": "code",
   "execution_count": null,
   "metadata": {},
   "outputs": [],
   "source": [
    "dfr2\n",
    "df5"
   ]
  },
  {
   "cell_type": "code",
   "execution_count": 22,
   "metadata": {},
   "outputs": [],
   "source": [
    "df = checa_sobrevivencia(df)\n",
    "animacao(df)"
   ]
  },
  {
   "cell_type": "markdown",
   "metadata": {},
   "source": [
    "# Misc"
   ]
  },
  {
   "cell_type": "code",
   "execution_count": 86,
   "metadata": {},
   "outputs": [
    {
     "data": {
      "application/vnd.plotly.v1+json": {
       "config": {
        "plotlyServerURL": "https://plot.ly"
       },
       "data": [
        {
         "hovertemplate": "r=%{r}<br>theta=%{theta}<extra></extra>",
         "legendgroup": "",
         "line": {
          "color": "#636efa",
          "dash": "solid"
         },
         "mode": "lines",
         "name": "",
         "r": [
          1,
          5,
          2,
          2,
          3,
          1
         ],
         "showlegend": false,
         "subplot": "polar",
         "theta": [
          "processing cost",
          "mechanical properties",
          "chemical stability",
          "thermal stability",
          "device integration",
          "processing cost"
         ],
         "type": "scatterpolar"
        }
       ],
       "layout": {
        "legend": {
         "tracegroupgap": 0
        },
        "margin": {
         "t": 60
        },
        "polar": {
         "angularaxis": {
          "direction": "clockwise",
          "rotation": 90
         },
         "domain": {
          "x": [
           0,
           1
          ],
          "y": [
           0,
           1
          ]
         }
        },
        "template": {
         "data": {
          "bar": [
           {
            "error_x": {
             "color": "#2a3f5f"
            },
            "error_y": {
             "color": "#2a3f5f"
            },
            "marker": {
             "line": {
              "color": "#E5ECF6",
              "width": 0.5
             }
            },
            "type": "bar"
           }
          ],
          "barpolar": [
           {
            "marker": {
             "line": {
              "color": "#E5ECF6",
              "width": 0.5
             }
            },
            "type": "barpolar"
           }
          ],
          "carpet": [
           {
            "aaxis": {
             "endlinecolor": "#2a3f5f",
             "gridcolor": "white",
             "linecolor": "white",
             "minorgridcolor": "white",
             "startlinecolor": "#2a3f5f"
            },
            "baxis": {
             "endlinecolor": "#2a3f5f",
             "gridcolor": "white",
             "linecolor": "white",
             "minorgridcolor": "white",
             "startlinecolor": "#2a3f5f"
            },
            "type": "carpet"
           }
          ],
          "choropleth": [
           {
            "colorbar": {
             "outlinewidth": 0,
             "ticks": ""
            },
            "type": "choropleth"
           }
          ],
          "contour": [
           {
            "colorbar": {
             "outlinewidth": 0,
             "ticks": ""
            },
            "colorscale": [
             [
              0,
              "#0d0887"
             ],
             [
              0.1111111111111111,
              "#46039f"
             ],
             [
              0.2222222222222222,
              "#7201a8"
             ],
             [
              0.3333333333333333,
              "#9c179e"
             ],
             [
              0.4444444444444444,
              "#bd3786"
             ],
             [
              0.5555555555555556,
              "#d8576b"
             ],
             [
              0.6666666666666666,
              "#ed7953"
             ],
             [
              0.7777777777777778,
              "#fb9f3a"
             ],
             [
              0.8888888888888888,
              "#fdca26"
             ],
             [
              1,
              "#f0f921"
             ]
            ],
            "type": "contour"
           }
          ],
          "contourcarpet": [
           {
            "colorbar": {
             "outlinewidth": 0,
             "ticks": ""
            },
            "type": "contourcarpet"
           }
          ],
          "heatmap": [
           {
            "colorbar": {
             "outlinewidth": 0,
             "ticks": ""
            },
            "colorscale": [
             [
              0,
              "#0d0887"
             ],
             [
              0.1111111111111111,
              "#46039f"
             ],
             [
              0.2222222222222222,
              "#7201a8"
             ],
             [
              0.3333333333333333,
              "#9c179e"
             ],
             [
              0.4444444444444444,
              "#bd3786"
             ],
             [
              0.5555555555555556,
              "#d8576b"
             ],
             [
              0.6666666666666666,
              "#ed7953"
             ],
             [
              0.7777777777777778,
              "#fb9f3a"
             ],
             [
              0.8888888888888888,
              "#fdca26"
             ],
             [
              1,
              "#f0f921"
             ]
            ],
            "type": "heatmap"
           }
          ],
          "heatmapgl": [
           {
            "colorbar": {
             "outlinewidth": 0,
             "ticks": ""
            },
            "colorscale": [
             [
              0,
              "#0d0887"
             ],
             [
              0.1111111111111111,
              "#46039f"
             ],
             [
              0.2222222222222222,
              "#7201a8"
             ],
             [
              0.3333333333333333,
              "#9c179e"
             ],
             [
              0.4444444444444444,
              "#bd3786"
             ],
             [
              0.5555555555555556,
              "#d8576b"
             ],
             [
              0.6666666666666666,
              "#ed7953"
             ],
             [
              0.7777777777777778,
              "#fb9f3a"
             ],
             [
              0.8888888888888888,
              "#fdca26"
             ],
             [
              1,
              "#f0f921"
             ]
            ],
            "type": "heatmapgl"
           }
          ],
          "histogram": [
           {
            "marker": {
             "colorbar": {
              "outlinewidth": 0,
              "ticks": ""
             }
            },
            "type": "histogram"
           }
          ],
          "histogram2d": [
           {
            "colorbar": {
             "outlinewidth": 0,
             "ticks": ""
            },
            "colorscale": [
             [
              0,
              "#0d0887"
             ],
             [
              0.1111111111111111,
              "#46039f"
             ],
             [
              0.2222222222222222,
              "#7201a8"
             ],
             [
              0.3333333333333333,
              "#9c179e"
             ],
             [
              0.4444444444444444,
              "#bd3786"
             ],
             [
              0.5555555555555556,
              "#d8576b"
             ],
             [
              0.6666666666666666,
              "#ed7953"
             ],
             [
              0.7777777777777778,
              "#fb9f3a"
             ],
             [
              0.8888888888888888,
              "#fdca26"
             ],
             [
              1,
              "#f0f921"
             ]
            ],
            "type": "histogram2d"
           }
          ],
          "histogram2dcontour": [
           {
            "colorbar": {
             "outlinewidth": 0,
             "ticks": ""
            },
            "colorscale": [
             [
              0,
              "#0d0887"
             ],
             [
              0.1111111111111111,
              "#46039f"
             ],
             [
              0.2222222222222222,
              "#7201a8"
             ],
             [
              0.3333333333333333,
              "#9c179e"
             ],
             [
              0.4444444444444444,
              "#bd3786"
             ],
             [
              0.5555555555555556,
              "#d8576b"
             ],
             [
              0.6666666666666666,
              "#ed7953"
             ],
             [
              0.7777777777777778,
              "#fb9f3a"
             ],
             [
              0.8888888888888888,
              "#fdca26"
             ],
             [
              1,
              "#f0f921"
             ]
            ],
            "type": "histogram2dcontour"
           }
          ],
          "mesh3d": [
           {
            "colorbar": {
             "outlinewidth": 0,
             "ticks": ""
            },
            "type": "mesh3d"
           }
          ],
          "parcoords": [
           {
            "line": {
             "colorbar": {
              "outlinewidth": 0,
              "ticks": ""
             }
            },
            "type": "parcoords"
           }
          ],
          "pie": [
           {
            "automargin": true,
            "type": "pie"
           }
          ],
          "scatter": [
           {
            "marker": {
             "colorbar": {
              "outlinewidth": 0,
              "ticks": ""
             }
            },
            "type": "scatter"
           }
          ],
          "scatter3d": [
           {
            "line": {
             "colorbar": {
              "outlinewidth": 0,
              "ticks": ""
             }
            },
            "marker": {
             "colorbar": {
              "outlinewidth": 0,
              "ticks": ""
             }
            },
            "type": "scatter3d"
           }
          ],
          "scattercarpet": [
           {
            "marker": {
             "colorbar": {
              "outlinewidth": 0,
              "ticks": ""
             }
            },
            "type": "scattercarpet"
           }
          ],
          "scattergeo": [
           {
            "marker": {
             "colorbar": {
              "outlinewidth": 0,
              "ticks": ""
             }
            },
            "type": "scattergeo"
           }
          ],
          "scattergl": [
           {
            "marker": {
             "colorbar": {
              "outlinewidth": 0,
              "ticks": ""
             }
            },
            "type": "scattergl"
           }
          ],
          "scattermapbox": [
           {
            "marker": {
             "colorbar": {
              "outlinewidth": 0,
              "ticks": ""
             }
            },
            "type": "scattermapbox"
           }
          ],
          "scatterpolar": [
           {
            "marker": {
             "colorbar": {
              "outlinewidth": 0,
              "ticks": ""
             }
            },
            "type": "scatterpolar"
           }
          ],
          "scatterpolargl": [
           {
            "marker": {
             "colorbar": {
              "outlinewidth": 0,
              "ticks": ""
             }
            },
            "type": "scatterpolargl"
           }
          ],
          "scatterternary": [
           {
            "marker": {
             "colorbar": {
              "outlinewidth": 0,
              "ticks": ""
             }
            },
            "type": "scatterternary"
           }
          ],
          "surface": [
           {
            "colorbar": {
             "outlinewidth": 0,
             "ticks": ""
            },
            "colorscale": [
             [
              0,
              "#0d0887"
             ],
             [
              0.1111111111111111,
              "#46039f"
             ],
             [
              0.2222222222222222,
              "#7201a8"
             ],
             [
              0.3333333333333333,
              "#9c179e"
             ],
             [
              0.4444444444444444,
              "#bd3786"
             ],
             [
              0.5555555555555556,
              "#d8576b"
             ],
             [
              0.6666666666666666,
              "#ed7953"
             ],
             [
              0.7777777777777778,
              "#fb9f3a"
             ],
             [
              0.8888888888888888,
              "#fdca26"
             ],
             [
              1,
              "#f0f921"
             ]
            ],
            "type": "surface"
           }
          ],
          "table": [
           {
            "cells": {
             "fill": {
              "color": "#EBF0F8"
             },
             "line": {
              "color": "white"
             }
            },
            "header": {
             "fill": {
              "color": "#C8D4E3"
             },
             "line": {
              "color": "white"
             }
            },
            "type": "table"
           }
          ]
         },
         "layout": {
          "annotationdefaults": {
           "arrowcolor": "#2a3f5f",
           "arrowhead": 0,
           "arrowwidth": 1
          },
          "autotypenumbers": "strict",
          "coloraxis": {
           "colorbar": {
            "outlinewidth": 0,
            "ticks": ""
           }
          },
          "colorscale": {
           "diverging": [
            [
             0,
             "#8e0152"
            ],
            [
             0.1,
             "#c51b7d"
            ],
            [
             0.2,
             "#de77ae"
            ],
            [
             0.3,
             "#f1b6da"
            ],
            [
             0.4,
             "#fde0ef"
            ],
            [
             0.5,
             "#f7f7f7"
            ],
            [
             0.6,
             "#e6f5d0"
            ],
            [
             0.7,
             "#b8e186"
            ],
            [
             0.8,
             "#7fbc41"
            ],
            [
             0.9,
             "#4d9221"
            ],
            [
             1,
             "#276419"
            ]
           ],
           "sequential": [
            [
             0,
             "#0d0887"
            ],
            [
             0.1111111111111111,
             "#46039f"
            ],
            [
             0.2222222222222222,
             "#7201a8"
            ],
            [
             0.3333333333333333,
             "#9c179e"
            ],
            [
             0.4444444444444444,
             "#bd3786"
            ],
            [
             0.5555555555555556,
             "#d8576b"
            ],
            [
             0.6666666666666666,
             "#ed7953"
            ],
            [
             0.7777777777777778,
             "#fb9f3a"
            ],
            [
             0.8888888888888888,
             "#fdca26"
            ],
            [
             1,
             "#f0f921"
            ]
           ],
           "sequentialminus": [
            [
             0,
             "#0d0887"
            ],
            [
             0.1111111111111111,
             "#46039f"
            ],
            [
             0.2222222222222222,
             "#7201a8"
            ],
            [
             0.3333333333333333,
             "#9c179e"
            ],
            [
             0.4444444444444444,
             "#bd3786"
            ],
            [
             0.5555555555555556,
             "#d8576b"
            ],
            [
             0.6666666666666666,
             "#ed7953"
            ],
            [
             0.7777777777777778,
             "#fb9f3a"
            ],
            [
             0.8888888888888888,
             "#fdca26"
            ],
            [
             1,
             "#f0f921"
            ]
           ]
          },
          "colorway": [
           "#636efa",
           "#EF553B",
           "#00cc96",
           "#ab63fa",
           "#FFA15A",
           "#19d3f3",
           "#FF6692",
           "#B6E880",
           "#FF97FF",
           "#FECB52"
          ],
          "font": {
           "color": "#2a3f5f"
          },
          "geo": {
           "bgcolor": "white",
           "lakecolor": "white",
           "landcolor": "#E5ECF6",
           "showlakes": true,
           "showland": true,
           "subunitcolor": "white"
          },
          "hoverlabel": {
           "align": "left"
          },
          "hovermode": "closest",
          "mapbox": {
           "style": "light"
          },
          "paper_bgcolor": "white",
          "plot_bgcolor": "#E5ECF6",
          "polar": {
           "angularaxis": {
            "gridcolor": "white",
            "linecolor": "white",
            "ticks": ""
           },
           "bgcolor": "#E5ECF6",
           "radialaxis": {
            "gridcolor": "white",
            "linecolor": "white",
            "ticks": ""
           }
          },
          "scene": {
           "xaxis": {
            "backgroundcolor": "#E5ECF6",
            "gridcolor": "white",
            "gridwidth": 2,
            "linecolor": "white",
            "showbackground": true,
            "ticks": "",
            "zerolinecolor": "white"
           },
           "yaxis": {
            "backgroundcolor": "#E5ECF6",
            "gridcolor": "white",
            "gridwidth": 2,
            "linecolor": "white",
            "showbackground": true,
            "ticks": "",
            "zerolinecolor": "white"
           },
           "zaxis": {
            "backgroundcolor": "#E5ECF6",
            "gridcolor": "white",
            "gridwidth": 2,
            "linecolor": "white",
            "showbackground": true,
            "ticks": "",
            "zerolinecolor": "white"
           }
          },
          "shapedefaults": {
           "line": {
            "color": "#2a3f5f"
           }
          },
          "ternary": {
           "aaxis": {
            "gridcolor": "white",
            "linecolor": "white",
            "ticks": ""
           },
           "baxis": {
            "gridcolor": "white",
            "linecolor": "white",
            "ticks": ""
           },
           "bgcolor": "#E5ECF6",
           "caxis": {
            "gridcolor": "white",
            "linecolor": "white",
            "ticks": ""
           }
          },
          "title": {
           "x": 0.05
          },
          "xaxis": {
           "automargin": true,
           "gridcolor": "white",
           "linecolor": "white",
           "ticks": "",
           "title": {
            "standoff": 15
           },
           "zerolinecolor": "white",
           "zerolinewidth": 2
          },
          "yaxis": {
           "automargin": true,
           "gridcolor": "white",
           "linecolor": "white",
           "ticks": "",
           "title": {
            "standoff": 15
           },
           "zerolinecolor": "white",
           "zerolinewidth": 2
          }
         }
        }
       }
      },
      "text/html": [
       "<div>                            <div id=\"20793b18-fb1f-49c8-9dc5-ec332ac153c7\" class=\"plotly-graph-div\" style=\"height:525px; width:100%;\"></div>            <script type=\"text/javascript\">                require([\"plotly\"], function(Plotly) {                    window.PLOTLYENV=window.PLOTLYENV || {};                                    if (document.getElementById(\"20793b18-fb1f-49c8-9dc5-ec332ac153c7\")) {                    Plotly.newPlot(                        \"20793b18-fb1f-49c8-9dc5-ec332ac153c7\",                        [{\"hovertemplate\": \"r=%{r}<br>theta=%{theta}<extra></extra>\", \"legendgroup\": \"\", \"line\": {\"color\": \"#636efa\", \"dash\": \"solid\"}, \"mode\": \"lines\", \"name\": \"\", \"r\": [1, 5, 2, 2, 3, 1], \"showlegend\": false, \"subplot\": \"polar\", \"theta\": [\"processing cost\", \"mechanical properties\", \"chemical stability\", \"thermal stability\", \"device integration\", \"processing cost\"], \"type\": \"scatterpolar\"}],                        {\"legend\": {\"tracegroupgap\": 0}, \"margin\": {\"t\": 60}, \"polar\": {\"angularaxis\": {\"direction\": \"clockwise\", \"rotation\": 90}, \"domain\": {\"x\": [0.0, 1.0], \"y\": [0.0, 1.0]}}, \"template\": {\"data\": {\"bar\": [{\"error_x\": {\"color\": \"#2a3f5f\"}, \"error_y\": {\"color\": \"#2a3f5f\"}, \"marker\": {\"line\": {\"color\": \"#E5ECF6\", \"width\": 0.5}}, \"type\": \"bar\"}], \"barpolar\": [{\"marker\": {\"line\": {\"color\": \"#E5ECF6\", \"width\": 0.5}}, \"type\": \"barpolar\"}], \"carpet\": [{\"aaxis\": {\"endlinecolor\": \"#2a3f5f\", \"gridcolor\": \"white\", \"linecolor\": \"white\", \"minorgridcolor\": \"white\", \"startlinecolor\": \"#2a3f5f\"}, \"baxis\": {\"endlinecolor\": \"#2a3f5f\", \"gridcolor\": \"white\", \"linecolor\": \"white\", \"minorgridcolor\": \"white\", \"startlinecolor\": \"#2a3f5f\"}, \"type\": \"carpet\"}], \"choropleth\": [{\"colorbar\": {\"outlinewidth\": 0, \"ticks\": \"\"}, \"type\": \"choropleth\"}], \"contour\": [{\"colorbar\": {\"outlinewidth\": 0, \"ticks\": \"\"}, \"colorscale\": [[0.0, \"#0d0887\"], [0.1111111111111111, \"#46039f\"], [0.2222222222222222, \"#7201a8\"], [0.3333333333333333, \"#9c179e\"], [0.4444444444444444, \"#bd3786\"], [0.5555555555555556, \"#d8576b\"], [0.6666666666666666, \"#ed7953\"], [0.7777777777777778, \"#fb9f3a\"], [0.8888888888888888, \"#fdca26\"], [1.0, \"#f0f921\"]], \"type\": \"contour\"}], \"contourcarpet\": [{\"colorbar\": {\"outlinewidth\": 0, \"ticks\": \"\"}, \"type\": \"contourcarpet\"}], \"heatmap\": [{\"colorbar\": {\"outlinewidth\": 0, \"ticks\": \"\"}, \"colorscale\": [[0.0, \"#0d0887\"], [0.1111111111111111, \"#46039f\"], [0.2222222222222222, \"#7201a8\"], [0.3333333333333333, \"#9c179e\"], [0.4444444444444444, \"#bd3786\"], [0.5555555555555556, \"#d8576b\"], [0.6666666666666666, \"#ed7953\"], [0.7777777777777778, \"#fb9f3a\"], [0.8888888888888888, \"#fdca26\"], [1.0, \"#f0f921\"]], \"type\": \"heatmap\"}], \"heatmapgl\": [{\"colorbar\": {\"outlinewidth\": 0, \"ticks\": \"\"}, \"colorscale\": [[0.0, \"#0d0887\"], [0.1111111111111111, \"#46039f\"], [0.2222222222222222, \"#7201a8\"], [0.3333333333333333, \"#9c179e\"], [0.4444444444444444, \"#bd3786\"], [0.5555555555555556, \"#d8576b\"], [0.6666666666666666, \"#ed7953\"], [0.7777777777777778, \"#fb9f3a\"], [0.8888888888888888, \"#fdca26\"], [1.0, \"#f0f921\"]], \"type\": \"heatmapgl\"}], \"histogram\": [{\"marker\": {\"colorbar\": {\"outlinewidth\": 0, \"ticks\": \"\"}}, \"type\": \"histogram\"}], \"histogram2d\": [{\"colorbar\": {\"outlinewidth\": 0, \"ticks\": \"\"}, \"colorscale\": [[0.0, \"#0d0887\"], [0.1111111111111111, \"#46039f\"], [0.2222222222222222, \"#7201a8\"], [0.3333333333333333, \"#9c179e\"], [0.4444444444444444, \"#bd3786\"], [0.5555555555555556, \"#d8576b\"], [0.6666666666666666, \"#ed7953\"], [0.7777777777777778, \"#fb9f3a\"], [0.8888888888888888, \"#fdca26\"], [1.0, \"#f0f921\"]], \"type\": \"histogram2d\"}], \"histogram2dcontour\": [{\"colorbar\": {\"outlinewidth\": 0, \"ticks\": \"\"}, \"colorscale\": [[0.0, \"#0d0887\"], [0.1111111111111111, \"#46039f\"], [0.2222222222222222, \"#7201a8\"], [0.3333333333333333, \"#9c179e\"], [0.4444444444444444, \"#bd3786\"], [0.5555555555555556, \"#d8576b\"], [0.6666666666666666, \"#ed7953\"], [0.7777777777777778, \"#fb9f3a\"], [0.8888888888888888, \"#fdca26\"], [1.0, \"#f0f921\"]], \"type\": \"histogram2dcontour\"}], \"mesh3d\": [{\"colorbar\": {\"outlinewidth\": 0, \"ticks\": \"\"}, \"type\": \"mesh3d\"}], \"parcoords\": [{\"line\": {\"colorbar\": {\"outlinewidth\": 0, \"ticks\": \"\"}}, \"type\": \"parcoords\"}], \"pie\": [{\"automargin\": true, \"type\": \"pie\"}], \"scatter\": [{\"marker\": {\"colorbar\": {\"outlinewidth\": 0, \"ticks\": \"\"}}, \"type\": \"scatter\"}], \"scatter3d\": [{\"line\": {\"colorbar\": {\"outlinewidth\": 0, \"ticks\": \"\"}}, \"marker\": {\"colorbar\": {\"outlinewidth\": 0, \"ticks\": \"\"}}, \"type\": \"scatter3d\"}], \"scattercarpet\": [{\"marker\": {\"colorbar\": {\"outlinewidth\": 0, \"ticks\": \"\"}}, \"type\": \"scattercarpet\"}], \"scattergeo\": [{\"marker\": {\"colorbar\": {\"outlinewidth\": 0, \"ticks\": \"\"}}, \"type\": \"scattergeo\"}], \"scattergl\": [{\"marker\": {\"colorbar\": {\"outlinewidth\": 0, \"ticks\": \"\"}}, \"type\": \"scattergl\"}], \"scattermapbox\": [{\"marker\": {\"colorbar\": {\"outlinewidth\": 0, \"ticks\": \"\"}}, \"type\": \"scattermapbox\"}], \"scatterpolar\": [{\"marker\": {\"colorbar\": {\"outlinewidth\": 0, \"ticks\": \"\"}}, \"type\": \"scatterpolar\"}], \"scatterpolargl\": [{\"marker\": {\"colorbar\": {\"outlinewidth\": 0, \"ticks\": \"\"}}, \"type\": \"scatterpolargl\"}], \"scatterternary\": [{\"marker\": {\"colorbar\": {\"outlinewidth\": 0, \"ticks\": \"\"}}, \"type\": \"scatterternary\"}], \"surface\": [{\"colorbar\": {\"outlinewidth\": 0, \"ticks\": \"\"}, \"colorscale\": [[0.0, \"#0d0887\"], [0.1111111111111111, \"#46039f\"], [0.2222222222222222, \"#7201a8\"], [0.3333333333333333, \"#9c179e\"], [0.4444444444444444, \"#bd3786\"], [0.5555555555555556, \"#d8576b\"], [0.6666666666666666, \"#ed7953\"], [0.7777777777777778, \"#fb9f3a\"], [0.8888888888888888, \"#fdca26\"], [1.0, \"#f0f921\"]], \"type\": \"surface\"}], \"table\": [{\"cells\": {\"fill\": {\"color\": \"#EBF0F8\"}, \"line\": {\"color\": \"white\"}}, \"header\": {\"fill\": {\"color\": \"#C8D4E3\"}, \"line\": {\"color\": \"white\"}}, \"type\": \"table\"}]}, \"layout\": {\"annotationdefaults\": {\"arrowcolor\": \"#2a3f5f\", \"arrowhead\": 0, \"arrowwidth\": 1}, \"autotypenumbers\": \"strict\", \"coloraxis\": {\"colorbar\": {\"outlinewidth\": 0, \"ticks\": \"\"}}, \"colorscale\": {\"diverging\": [[0, \"#8e0152\"], [0.1, \"#c51b7d\"], [0.2, \"#de77ae\"], [0.3, \"#f1b6da\"], [0.4, \"#fde0ef\"], [0.5, \"#f7f7f7\"], [0.6, \"#e6f5d0\"], [0.7, \"#b8e186\"], [0.8, \"#7fbc41\"], [0.9, \"#4d9221\"], [1, \"#276419\"]], \"sequential\": [[0.0, \"#0d0887\"], [0.1111111111111111, \"#46039f\"], [0.2222222222222222, \"#7201a8\"], [0.3333333333333333, \"#9c179e\"], [0.4444444444444444, \"#bd3786\"], [0.5555555555555556, \"#d8576b\"], [0.6666666666666666, \"#ed7953\"], [0.7777777777777778, \"#fb9f3a\"], [0.8888888888888888, \"#fdca26\"], [1.0, \"#f0f921\"]], \"sequentialminus\": [[0.0, \"#0d0887\"], [0.1111111111111111, \"#46039f\"], [0.2222222222222222, \"#7201a8\"], [0.3333333333333333, \"#9c179e\"], [0.4444444444444444, \"#bd3786\"], [0.5555555555555556, \"#d8576b\"], [0.6666666666666666, \"#ed7953\"], [0.7777777777777778, \"#fb9f3a\"], [0.8888888888888888, \"#fdca26\"], [1.0, \"#f0f921\"]]}, \"colorway\": [\"#636efa\", \"#EF553B\", \"#00cc96\", \"#ab63fa\", \"#FFA15A\", \"#19d3f3\", \"#FF6692\", \"#B6E880\", \"#FF97FF\", \"#FECB52\"], \"font\": {\"color\": \"#2a3f5f\"}, \"geo\": {\"bgcolor\": \"white\", \"lakecolor\": \"white\", \"landcolor\": \"#E5ECF6\", \"showlakes\": true, \"showland\": true, \"subunitcolor\": \"white\"}, \"hoverlabel\": {\"align\": \"left\"}, \"hovermode\": \"closest\", \"mapbox\": {\"style\": \"light\"}, \"paper_bgcolor\": \"white\", \"plot_bgcolor\": \"#E5ECF6\", \"polar\": {\"angularaxis\": {\"gridcolor\": \"white\", \"linecolor\": \"white\", \"ticks\": \"\"}, \"bgcolor\": \"#E5ECF6\", \"radialaxis\": {\"gridcolor\": \"white\", \"linecolor\": \"white\", \"ticks\": \"\"}}, \"scene\": {\"xaxis\": {\"backgroundcolor\": \"#E5ECF6\", \"gridcolor\": \"white\", \"gridwidth\": 2, \"linecolor\": \"white\", \"showbackground\": true, \"ticks\": \"\", \"zerolinecolor\": \"white\"}, \"yaxis\": {\"backgroundcolor\": \"#E5ECF6\", \"gridcolor\": \"white\", \"gridwidth\": 2, \"linecolor\": \"white\", \"showbackground\": true, \"ticks\": \"\", \"zerolinecolor\": \"white\"}, \"zaxis\": {\"backgroundcolor\": \"#E5ECF6\", \"gridcolor\": \"white\", \"gridwidth\": 2, \"linecolor\": \"white\", \"showbackground\": true, \"ticks\": \"\", \"zerolinecolor\": \"white\"}}, \"shapedefaults\": {\"line\": {\"color\": \"#2a3f5f\"}}, \"ternary\": {\"aaxis\": {\"gridcolor\": \"white\", \"linecolor\": \"white\", \"ticks\": \"\"}, \"baxis\": {\"gridcolor\": \"white\", \"linecolor\": \"white\", \"ticks\": \"\"}, \"bgcolor\": \"#E5ECF6\", \"caxis\": {\"gridcolor\": \"white\", \"linecolor\": \"white\", \"ticks\": \"\"}}, \"title\": {\"x\": 0.05}, \"xaxis\": {\"automargin\": true, \"gridcolor\": \"white\", \"linecolor\": \"white\", \"ticks\": \"\", \"title\": {\"standoff\": 15}, \"zerolinecolor\": \"white\", \"zerolinewidth\": 2}, \"yaxis\": {\"automargin\": true, \"gridcolor\": \"white\", \"linecolor\": \"white\", \"ticks\": \"\", \"title\": {\"standoff\": 15}, \"zerolinecolor\": \"white\", \"zerolinewidth\": 2}}}},                        {\"responsive\": true}                    ).then(function(){\n",
       "                            \n",
       "var gd = document.getElementById('20793b18-fb1f-49c8-9dc5-ec332ac153c7');\n",
       "var x = new MutationObserver(function (mutations, observer) {{\n",
       "        var display = window.getComputedStyle(gd).display;\n",
       "        if (!display || display === 'none') {{\n",
       "            console.log([gd, 'removed!']);\n",
       "            Plotly.purge(gd);\n",
       "            observer.disconnect();\n",
       "        }}\n",
       "}});\n",
       "\n",
       "// Listen for the removal of the full notebook cells\n",
       "var notebookContainer = gd.closest('#notebook-container');\n",
       "if (notebookContainer) {{\n",
       "    x.observe(notebookContainer, {childList: true});\n",
       "}}\n",
       "\n",
       "// Listen for the clearing of the current output cell\n",
       "var outputEl = gd.closest('.output');\n",
       "if (outputEl) {{\n",
       "    x.observe(outputEl, {childList: true});\n",
       "}}\n",
       "\n",
       "                        })                };                });            </script>        </div>"
      ]
     },
     "metadata": {},
     "output_type": "display_data"
    }
   ],
   "source": [
    "import plotly.express as px\n",
    "import pandas as pd\n",
    "df = pd.DataFrame(dict(\n",
    "    r=[1, 5, 2, 2, 3],\n",
    "    theta=['processing cost','mechanical properties','chemical stability',\n",
    "           'thermal stability', 'device integration']))\n",
    "fig = px.line_polar(df, r='r', theta='theta', line_close=True)\n",
    "fig.show()"
   ]
  }
 ],
 "metadata": {
  "kernelspec": {
   "display_name": "Python 3",
   "language": "python",
   "name": "python3"
  },
  "language_info": {
   "codemirror_mode": {
    "name": "ipython",
    "version": 3
   },
   "file_extension": ".py",
   "mimetype": "text/x-python",
   "name": "python",
   "nbconvert_exporter": "python",
   "pygments_lexer": "ipython3",
   "version": "3.8.5"
  }
 },
 "nbformat": 4,
 "nbformat_minor": 4
}
